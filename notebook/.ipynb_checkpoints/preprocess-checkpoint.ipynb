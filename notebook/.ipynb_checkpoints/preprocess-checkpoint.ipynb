{
 "cells": [
  {
   "cell_type": "code",
   "execution_count": 1,
   "id": "03c2bdf3-39de-41a9-8d31-ec769a1314d6",
   "metadata": {},
   "outputs": [],
   "source": [
    "import pandas as pd\n",
    "import numpy as np\n",
    "import warnings\n",
    "warnings.filterwarnings(\"ignore\")"
   ]
  },
  {
   "cell_type": "code",
   "execution_count": 2,
   "id": "01331f91-9cfe-4ff7-90b0-e0e33664869f",
   "metadata": {},
   "outputs": [],
   "source": [
    "df=pd.read_csv(\"/home/ibrahimfadu/ALL_PROJECTS/Diploma_collage_prediction/data/comple_n1.csv\")"
   ]
  },
  {
   "cell_type": "code",
   "execution_count": 3,
   "id": "0ee07447-f428-45c7-9587-0658ed67cc46",
   "metadata": {},
   "outputs": [
    {
     "data": {
      "text/html": [
       "<div>\n",
       "<style scoped>\n",
       "    .dataframe tbody tr th:only-of-type {\n",
       "        vertical-align: middle;\n",
       "    }\n",
       "\n",
       "    .dataframe tbody tr th {\n",
       "        vertical-align: top;\n",
       "    }\n",
       "\n",
       "    .dataframe thead th {\n",
       "        text-align: right;\n",
       "    }\n",
       "</style>\n",
       "<table border=\"1\" class=\"dataframe\">\n",
       "  <thead>\n",
       "    <tr style=\"text-align: right;\">\n",
       "      <th></th>\n",
       "      <th>COLLEGE</th>\n",
       "      <th>BRANCH</th>\n",
       "      <th>CATEGORIES</th>\n",
       "      <th>RANKING</th>\n",
       "    </tr>\n",
       "  </thead>\n",
       "  <tbody>\n",
       "    <tr>\n",
       "      <th>0</th>\n",
       "      <td>University of Visvesvaraya College of Engineering</td>\n",
       "      <td>AI Artificial Intelligence</td>\n",
       "      <td>2AG</td>\n",
       "      <td>475</td>\n",
       "    </tr>\n",
       "    <tr>\n",
       "      <th>1</th>\n",
       "      <td>University of Visvesvaraya College of Engineering</td>\n",
       "      <td>AI Artificial Intelligence</td>\n",
       "      <td>GM</td>\n",
       "      <td>355</td>\n",
       "    </tr>\n",
       "    <tr>\n",
       "      <th>2</th>\n",
       "      <td>University of Visvesvaraya College of Engineering</td>\n",
       "      <td>AI Artificial Intelligence</td>\n",
       "      <td>SCG</td>\n",
       "      <td>670</td>\n",
       "    </tr>\n",
       "    <tr>\n",
       "      <th>3</th>\n",
       "      <td>University of Visvesvaraya College of Engineering</td>\n",
       "      <td>AI Artificial Intelligence</td>\n",
       "      <td>GMR</td>\n",
       "      <td>0</td>\n",
       "    </tr>\n",
       "    <tr>\n",
       "      <th>4</th>\n",
       "      <td>University of Visvesvaraya College of Engineering</td>\n",
       "      <td>AI Artificial Intelligence</td>\n",
       "      <td>SCR</td>\n",
       "      <td>0</td>\n",
       "    </tr>\n",
       "  </tbody>\n",
       "</table>\n",
       "</div>"
      ],
      "text/plain": [
       "                                             COLLEGE  \\\n",
       "0  University of Visvesvaraya College of Engineering   \n",
       "1  University of Visvesvaraya College of Engineering   \n",
       "2  University of Visvesvaraya College of Engineering   \n",
       "3  University of Visvesvaraya College of Engineering   \n",
       "4  University of Visvesvaraya College of Engineering   \n",
       "\n",
       "                       BRANCH CATEGORIES  RANKING  \n",
       "0  AI Artificial Intelligence        2AG      475  \n",
       "1  AI Artificial Intelligence         GM      355  \n",
       "2  AI Artificial Intelligence        SCG      670  \n",
       "3  AI Artificial Intelligence        GMR        0  \n",
       "4  AI Artificial Intelligence        SCR        0  "
      ]
     },
     "execution_count": 3,
     "metadata": {},
     "output_type": "execute_result"
    }
   ],
   "source": [
    "df.head()"
   ]
  },
  {
   "cell_type": "code",
   "execution_count": 4,
   "id": "4dc5e5e8-5fbf-4cff-b176-b3b3aa64b8e3",
   "metadata": {},
   "outputs": [
    {
     "data": {
      "text/plain": [
       "(108, 4)"
      ]
     },
     "execution_count": 4,
     "metadata": {},
     "output_type": "execute_result"
    }
   ],
   "source": [
    "df.shape"
   ]
  },
  {
   "cell_type": "code",
   "execution_count": 5,
   "id": "173e7a2a-4a0c-4190-99b4-905c4d2d3e73",
   "metadata": {},
   "outputs": [
    {
     "data": {
      "text/plain": [
       "COLLEGE\n",
       "University of Visvesvaraya College of Engineering    36\n",
       "R. V. College of Engineering                         36\n",
       "Dayananda Sagar College of Engineering               36\n",
       "Name: count, dtype: int64"
      ]
     },
     "execution_count": 5,
     "metadata": {},
     "output_type": "execute_result"
    }
   ],
   "source": [
    "df['COLLEGE'].value_counts()"
   ]
  },
  {
   "cell_type": "code",
   "execution_count": 6,
   "id": "25dcf34c-a381-4014-8a17-8ec872e90049",
   "metadata": {},
   "outputs": [
    {
     "data": {
      "text/plain": [
       "BRANCH\n",
       "AI Artificial Intelligence    18\n",
       "CE Civil                      18\n",
       "CS Computers                  18\n",
       "EC Electronics                18\n",
       "EE Electrical                 18\n",
       "ME Mechanical                 18\n",
       "Name: count, dtype: int64"
      ]
     },
     "execution_count": 6,
     "metadata": {},
     "output_type": "execute_result"
    }
   ],
   "source": [
    "df['BRANCH'].value_counts()"
   ]
  },
  {
   "cell_type": "code",
   "execution_count": 7,
   "id": "3f0e781f-0a1e-413d-8495-0582bb3a56ba",
   "metadata": {},
   "outputs": [
    {
     "data": {
      "text/plain": [
       "CATEGORIES\n",
       "2AG    18\n",
       "GM     18\n",
       "SCG    18\n",
       "GMR    18\n",
       "SCR    18\n",
       "STG    18\n",
       "Name: count, dtype: int64"
      ]
     },
     "execution_count": 7,
     "metadata": {},
     "output_type": "execute_result"
    }
   ],
   "source": [
    "df['CATEGORIES'].value_counts()"
   ]
  },
  {
   "cell_type": "code",
   "execution_count": 8,
   "id": "ab525363-14ef-4e27-9789-e8b45e23b9cc",
   "metadata": {},
   "outputs": [],
   "source": [
    "df_copy=df.copy()"
   ]
  },
  {
   "cell_type": "code",
   "execution_count": 9,
   "id": "cbbd6d45-1bfb-4c93-ac9f-06607f7cf16e",
   "metadata": {},
   "outputs": [],
   "source": [
    "x=df_copy.drop('COLLEGE',axis=1)\n",
    "y=df_copy[\"COLLEGE\"]"
   ]
  },
  {
   "cell_type": "code",
   "execution_count": 10,
   "id": "56d59124-a67e-4e22-a0c3-2c86483985b6",
   "metadata": {},
   "outputs": [
    {
     "data": {
      "text/html": [
       "<div>\n",
       "<style scoped>\n",
       "    .dataframe tbody tr th:only-of-type {\n",
       "        vertical-align: middle;\n",
       "    }\n",
       "\n",
       "    .dataframe tbody tr th {\n",
       "        vertical-align: top;\n",
       "    }\n",
       "\n",
       "    .dataframe thead th {\n",
       "        text-align: right;\n",
       "    }\n",
       "</style>\n",
       "<table border=\"1\" class=\"dataframe\">\n",
       "  <thead>\n",
       "    <tr style=\"text-align: right;\">\n",
       "      <th></th>\n",
       "      <th>BRANCH</th>\n",
       "      <th>CATEGORIES</th>\n",
       "      <th>RANKING</th>\n",
       "    </tr>\n",
       "  </thead>\n",
       "  <tbody>\n",
       "    <tr>\n",
       "      <th>0</th>\n",
       "      <td>AI Artificial Intelligence</td>\n",
       "      <td>2AG</td>\n",
       "      <td>475</td>\n",
       "    </tr>\n",
       "    <tr>\n",
       "      <th>1</th>\n",
       "      <td>AI Artificial Intelligence</td>\n",
       "      <td>GM</td>\n",
       "      <td>355</td>\n",
       "    </tr>\n",
       "    <tr>\n",
       "      <th>2</th>\n",
       "      <td>AI Artificial Intelligence</td>\n",
       "      <td>SCG</td>\n",
       "      <td>670</td>\n",
       "    </tr>\n",
       "    <tr>\n",
       "      <th>3</th>\n",
       "      <td>AI Artificial Intelligence</td>\n",
       "      <td>GMR</td>\n",
       "      <td>0</td>\n",
       "    </tr>\n",
       "    <tr>\n",
       "      <th>4</th>\n",
       "      <td>AI Artificial Intelligence</td>\n",
       "      <td>SCR</td>\n",
       "      <td>0</td>\n",
       "    </tr>\n",
       "    <tr>\n",
       "      <th>...</th>\n",
       "      <td>...</td>\n",
       "      <td>...</td>\n",
       "      <td>...</td>\n",
       "    </tr>\n",
       "    <tr>\n",
       "      <th>103</th>\n",
       "      <td>ME Mechanical</td>\n",
       "      <td>GM</td>\n",
       "      <td>1861</td>\n",
       "    </tr>\n",
       "    <tr>\n",
       "      <th>104</th>\n",
       "      <td>ME Mechanical</td>\n",
       "      <td>SCG</td>\n",
       "      <td>2868</td>\n",
       "    </tr>\n",
       "    <tr>\n",
       "      <th>105</th>\n",
       "      <td>ME Mechanical</td>\n",
       "      <td>GMR</td>\n",
       "      <td>0</td>\n",
       "    </tr>\n",
       "    <tr>\n",
       "      <th>106</th>\n",
       "      <td>ME Mechanical</td>\n",
       "      <td>SCR</td>\n",
       "      <td>0</td>\n",
       "    </tr>\n",
       "    <tr>\n",
       "      <th>107</th>\n",
       "      <td>ME Mechanical</td>\n",
       "      <td>STG</td>\n",
       "      <td>4337</td>\n",
       "    </tr>\n",
       "  </tbody>\n",
       "</table>\n",
       "<p>108 rows × 3 columns</p>\n",
       "</div>"
      ],
      "text/plain": [
       "                         BRANCH CATEGORIES  RANKING\n",
       "0    AI Artificial Intelligence        2AG      475\n",
       "1    AI Artificial Intelligence         GM      355\n",
       "2    AI Artificial Intelligence        SCG      670\n",
       "3    AI Artificial Intelligence        GMR        0\n",
       "4    AI Artificial Intelligence        SCR        0\n",
       "..                          ...        ...      ...\n",
       "103               ME Mechanical         GM     1861\n",
       "104               ME Mechanical        SCG     2868\n",
       "105               ME Mechanical        GMR        0\n",
       "106               ME Mechanical        SCR        0\n",
       "107               ME Mechanical        STG     4337\n",
       "\n",
       "[108 rows x 3 columns]"
      ]
     },
     "execution_count": 10,
     "metadata": {},
     "output_type": "execute_result"
    }
   ],
   "source": [
    "x"
   ]
  },
  {
   "cell_type": "code",
   "execution_count": 11,
   "id": "0a3e36d2-79e6-4219-a414-0d52754be8b4",
   "metadata": {},
   "outputs": [],
   "source": [
    "from sklearn.model_selection import train_test_split\n",
    "x_train,x_test,y_train,y_test=train_test_split(x,y,test_size=0.2,random_state=42)"
   ]
  },
  {
   "cell_type": "code",
   "execution_count": 12,
   "id": "7c1fea15-d4b3-47c6-b241-6382369df75d",
   "metadata": {},
   "outputs": [
    {
     "data": {
      "text/plain": [
       "(86, 3)"
      ]
     },
     "execution_count": 12,
     "metadata": {},
     "output_type": "execute_result"
    }
   ],
   "source": [
    "x_train.shape"
   ]
  },
  {
   "cell_type": "code",
   "execution_count": 13,
   "id": "0a487366-86bd-4ed9-948f-5b8619b2700d",
   "metadata": {},
   "outputs": [
    {
     "data": {
      "text/plain": [
       "(22, 3)"
      ]
     },
     "execution_count": 13,
     "metadata": {},
     "output_type": "execute_result"
    }
   ],
   "source": [
    "x_test.shape"
   ]
  },
  {
   "cell_type": "code",
   "execution_count": 14,
   "id": "6dd21510-b1e0-43f0-bb50-57c9a7b0652c",
   "metadata": {},
   "outputs": [],
   "source": [
    "from sklearn.preprocessing import LabelEncoder\n",
    "encoder=LabelEncoder()\n",
    "x_train['CATEGORIES']=encoder.fit_transform(x_train['CATEGORIES'])\n",
    "x_train[\"BRANCH\"]=encoder.fit_transform(x_train['BRANCH'])\n",
    "x_test['CATEGORIES']=encoder.fit_transform(x_test['CATEGORIES'])\n",
    "x_test[\"BRANCH\"]=encoder.fit_transform(x_test['BRANCH'])"
   ]
  },
  {
   "cell_type": "code",
   "execution_count": null,
   "id": "7b79cafe-3cea-4b54-847f-4d14a2fd0d12",
   "metadata": {},
   "outputs": [],
   "source": []
  },
  {
   "cell_type": "code",
   "execution_count": 15,
   "id": "a0f45c32-28d9-4193-9238-4dcf1beb707e",
   "metadata": {},
   "outputs": [],
   "source": [
    "from sklearn.neighbors import KNeighborsClassifier\n",
    "model_1=KNeighborsClassifier(n_neighbors=3)\n",
    "model_1.fit(x_train,y_train)\n",
    "y_predict=model_1.predict(x_test)"
   ]
  },
  {
   "cell_type": "code",
   "execution_count": 16,
   "id": "516a90ce-ce1c-4394-8375-50bdd811471e",
   "metadata": {},
   "outputs": [],
   "source": [
    "from sklearn.metrics import accuracy_score"
   ]
  },
  {
   "cell_type": "code",
   "execution_count": 17,
   "id": "37db0ae2-3f11-4510-8fe3-44d27109ae07",
   "metadata": {},
   "outputs": [
    {
     "data": {
      "text/plain": [
       "0.5909090909090909"
      ]
     },
     "execution_count": 17,
     "metadata": {},
     "output_type": "execute_result"
    }
   ],
   "source": [
    "accuracy_score(y_test,y_predict)"
   ]
  },
  {
   "cell_type": "code",
   "execution_count": 18,
   "id": "8bacf8fb-f364-45eb-aa9d-42a4b5ef84d6",
   "metadata": {},
   "outputs": [
    {
     "data": {
      "text/html": [
       "<div>\n",
       "<style scoped>\n",
       "    .dataframe tbody tr th:only-of-type {\n",
       "        vertical-align: middle;\n",
       "    }\n",
       "\n",
       "    .dataframe tbody tr th {\n",
       "        vertical-align: top;\n",
       "    }\n",
       "\n",
       "    .dataframe thead th {\n",
       "        text-align: right;\n",
       "    }\n",
       "</style>\n",
       "<table border=\"1\" class=\"dataframe\">\n",
       "  <thead>\n",
       "    <tr style=\"text-align: right;\">\n",
       "      <th></th>\n",
       "      <th>COLLEGE</th>\n",
       "      <th>BRANCH</th>\n",
       "      <th>CATEGORIES</th>\n",
       "      <th>RANKING</th>\n",
       "    </tr>\n",
       "  </thead>\n",
       "  <tbody>\n",
       "    <tr>\n",
       "      <th>0</th>\n",
       "      <td>University of Visvesvaraya College of Engineering</td>\n",
       "      <td>AI Artificial Intelligence</td>\n",
       "      <td>2AG</td>\n",
       "      <td>475</td>\n",
       "    </tr>\n",
       "    <tr>\n",
       "      <th>1</th>\n",
       "      <td>University of Visvesvaraya College of Engineering</td>\n",
       "      <td>AI Artificial Intelligence</td>\n",
       "      <td>GM</td>\n",
       "      <td>355</td>\n",
       "    </tr>\n",
       "    <tr>\n",
       "      <th>2</th>\n",
       "      <td>University of Visvesvaraya College of Engineering</td>\n",
       "      <td>AI Artificial Intelligence</td>\n",
       "      <td>SCG</td>\n",
       "      <td>670</td>\n",
       "    </tr>\n",
       "    <tr>\n",
       "      <th>3</th>\n",
       "      <td>University of Visvesvaraya College of Engineering</td>\n",
       "      <td>AI Artificial Intelligence</td>\n",
       "      <td>GMR</td>\n",
       "      <td>0</td>\n",
       "    </tr>\n",
       "    <tr>\n",
       "      <th>4</th>\n",
       "      <td>University of Visvesvaraya College of Engineering</td>\n",
       "      <td>AI Artificial Intelligence</td>\n",
       "      <td>SCR</td>\n",
       "      <td>0</td>\n",
       "    </tr>\n",
       "  </tbody>\n",
       "</table>\n",
       "</div>"
      ],
      "text/plain": [
       "                                             COLLEGE  \\\n",
       "0  University of Visvesvaraya College of Engineering   \n",
       "1  University of Visvesvaraya College of Engineering   \n",
       "2  University of Visvesvaraya College of Engineering   \n",
       "3  University of Visvesvaraya College of Engineering   \n",
       "4  University of Visvesvaraya College of Engineering   \n",
       "\n",
       "                       BRANCH CATEGORIES  RANKING  \n",
       "0  AI Artificial Intelligence        2AG      475  \n",
       "1  AI Artificial Intelligence         GM      355  \n",
       "2  AI Artificial Intelligence        SCG      670  \n",
       "3  AI Artificial Intelligence        GMR        0  \n",
       "4  AI Artificial Intelligence        SCR        0  "
      ]
     },
     "execution_count": 18,
     "metadata": {},
     "output_type": "execute_result"
    }
   ],
   "source": [
    "#69\n",
    "#branch-computer science\n",
    "#category\n",
    "df.head()"
   ]
  },
  {
   "cell_type": "code",
   "execution_count": 19,
   "id": "cb9d9897-1c01-4ea6-a7c4-d16fb703f2af",
   "metadata": {},
   "outputs": [
    {
     "data": {
      "text/plain": [
       "0      2AG\n",
       "1       GM\n",
       "2      SCG\n",
       "3      GMR\n",
       "4      SCR\n",
       "      ... \n",
       "103     GM\n",
       "104    SCG\n",
       "105    GMR\n",
       "106    SCR\n",
       "107    STG\n",
       "Name: CATEGORIES, Length: 108, dtype: object"
      ]
     },
     "execution_count": 19,
     "metadata": {},
     "output_type": "execute_result"
    }
   ],
   "source": [
    "df.loc[:,\"CATEGORIES\"]"
   ]
  },
  {
   "cell_type": "code",
   "execution_count": 20,
   "id": "73b8e56e-30a1-4fb7-8201-6617ecf6aa0c",
   "metadata": {},
   "outputs": [
    {
     "data": {
      "text/html": [
       "<div>\n",
       "<style scoped>\n",
       "    .dataframe tbody tr th:only-of-type {\n",
       "        vertical-align: middle;\n",
       "    }\n",
       "\n",
       "    .dataframe tbody tr th {\n",
       "        vertical-align: top;\n",
       "    }\n",
       "\n",
       "    .dataframe thead th {\n",
       "        text-align: right;\n",
       "    }\n",
       "</style>\n",
       "<table border=\"1\" class=\"dataframe\">\n",
       "  <thead>\n",
       "    <tr style=\"text-align: right;\">\n",
       "      <th></th>\n",
       "      <th>COLLEGE</th>\n",
       "    </tr>\n",
       "  </thead>\n",
       "  <tbody>\n",
       "    <tr>\n",
       "      <th>0</th>\n",
       "      <td>University of Visvesvaraya College of Engineering</td>\n",
       "    </tr>\n",
       "    <tr>\n",
       "      <th>36</th>\n",
       "      <td>R. V. College of Engineering</td>\n",
       "    </tr>\n",
       "    <tr>\n",
       "      <th>72</th>\n",
       "      <td>Dayananda Sagar College of Engineering</td>\n",
       "    </tr>\n",
       "  </tbody>\n",
       "</table>\n",
       "</div>"
      ],
      "text/plain": [
       "                                              COLLEGE\n",
       "0   University of Visvesvaraya College of Engineering\n",
       "36                       R. V. College of Engineering\n",
       "72             Dayananda Sagar College of Engineering"
      ]
     },
     "execution_count": 20,
     "metadata": {},
     "output_type": "execute_result"
    }
   ],
   "source": [
    "rank=3\n",
    "Branch=\"\"\n",
    "Category=\"\"\n",
    "df.loc[(df['BRANCH']==\"AI Artificial Intelligence\") &( df[\"CATEGORIES\"]=='2AG') & (df[\"RANKING\"]>=rank),[\"COLLEGE\"]]"
   ]
  },
  {
   "cell_type": "code",
   "execution_count": 21,
   "id": "5037e63a-3bc3-4ea6-8319-f45e24fc2f61",
   "metadata": {},
   "outputs": [
    {
     "data": {
      "text/html": [
       "<div>\n",
       "<style scoped>\n",
       "    .dataframe tbody tr th:only-of-type {\n",
       "        vertical-align: middle;\n",
       "    }\n",
       "\n",
       "    .dataframe tbody tr th {\n",
       "        vertical-align: top;\n",
       "    }\n",
       "\n",
       "    .dataframe thead th {\n",
       "        text-align: right;\n",
       "    }\n",
       "</style>\n",
       "<table border=\"1\" class=\"dataframe\">\n",
       "  <thead>\n",
       "    <tr style=\"text-align: right;\">\n",
       "      <th></th>\n",
       "      <th>COLLEGE</th>\n",
       "      <th>BRANCH</th>\n",
       "      <th>CATEGORIES</th>\n",
       "      <th>RANKING</th>\n",
       "    </tr>\n",
       "  </thead>\n",
       "  <tbody>\n",
       "    <tr>\n",
       "      <th>0</th>\n",
       "      <td>University of Visvesvaraya College of Engineering</td>\n",
       "      <td>AI Artificial Intelligence</td>\n",
       "      <td>2AG</td>\n",
       "      <td>475</td>\n",
       "    </tr>\n",
       "    <tr>\n",
       "      <th>1</th>\n",
       "      <td>University of Visvesvaraya College of Engineering</td>\n",
       "      <td>AI Artificial Intelligence</td>\n",
       "      <td>GM</td>\n",
       "      <td>355</td>\n",
       "    </tr>\n",
       "    <tr>\n",
       "      <th>2</th>\n",
       "      <td>University of Visvesvaraya College of Engineering</td>\n",
       "      <td>AI Artificial Intelligence</td>\n",
       "      <td>SCG</td>\n",
       "      <td>670</td>\n",
       "    </tr>\n",
       "    <tr>\n",
       "      <th>3</th>\n",
       "      <td>University of Visvesvaraya College of Engineering</td>\n",
       "      <td>AI Artificial Intelligence</td>\n",
       "      <td>GMR</td>\n",
       "      <td>0</td>\n",
       "    </tr>\n",
       "    <tr>\n",
       "      <th>4</th>\n",
       "      <td>University of Visvesvaraya College of Engineering</td>\n",
       "      <td>AI Artificial Intelligence</td>\n",
       "      <td>SCR</td>\n",
       "      <td>0</td>\n",
       "    </tr>\n",
       "  </tbody>\n",
       "</table>\n",
       "</div>"
      ],
      "text/plain": [
       "                                             COLLEGE  \\\n",
       "0  University of Visvesvaraya College of Engineering   \n",
       "1  University of Visvesvaraya College of Engineering   \n",
       "2  University of Visvesvaraya College of Engineering   \n",
       "3  University of Visvesvaraya College of Engineering   \n",
       "4  University of Visvesvaraya College of Engineering   \n",
       "\n",
       "                       BRANCH CATEGORIES  RANKING  \n",
       "0  AI Artificial Intelligence        2AG      475  \n",
       "1  AI Artificial Intelligence         GM      355  \n",
       "2  AI Artificial Intelligence        SCG      670  \n",
       "3  AI Artificial Intelligence        GMR        0  \n",
       "4  AI Artificial Intelligence        SCR        0  "
      ]
     },
     "execution_count": 21,
     "metadata": {},
     "output_type": "execute_result"
    }
   ],
   "source": [
    "df_copy.head()"
   ]
  },
  {
   "cell_type": "code",
   "execution_count": 22,
   "id": "3ee3a277-5391-40d2-9d56-f9b61bb0d99b",
   "metadata": {},
   "outputs": [],
   "source": [
    "df_copy[\"BRANCH\"]=df_copy['BRANCH'].str.split(' ', n=1, expand=True)[0]"
   ]
  },
  {
   "cell_type": "code",
   "execution_count": 23,
   "id": "3f87a5f9-12b1-47bd-a2ae-c545a698f412",
   "metadata": {},
   "outputs": [
    {
     "data": {
      "text/plain": [
       "COLLEGE\n",
       "University of Visvesvaraya College of Engineering    36\n",
       "R. V. College of Engineering                         36\n",
       "Dayananda Sagar College of Engineering               36\n",
       "Name: count, dtype: int64"
      ]
     },
     "execution_count": 23,
     "metadata": {},
     "output_type": "execute_result"
    }
   ],
   "source": [
    "df_copy[\"COLLEGE\"].value_counts()"
   ]
  },
  {
   "cell_type": "code",
   "execution_count": 24,
   "id": "ccea6532-b647-46a7-ab4a-614f128697e1",
   "metadata": {},
   "outputs": [
    {
     "data": {
      "text/html": [
       "<div>\n",
       "<style scoped>\n",
       "    .dataframe tbody tr th:only-of-type {\n",
       "        vertical-align: middle;\n",
       "    }\n",
       "\n",
       "    .dataframe tbody tr th {\n",
       "        vertical-align: top;\n",
       "    }\n",
       "\n",
       "    .dataframe thead th {\n",
       "        text-align: right;\n",
       "    }\n",
       "</style>\n",
       "<table border=\"1\" class=\"dataframe\">\n",
       "  <thead>\n",
       "    <tr style=\"text-align: right;\">\n",
       "      <th></th>\n",
       "      <th>COLLEGE</th>\n",
       "      <th>BRANCH</th>\n",
       "      <th>CATEGORIES</th>\n",
       "      <th>RANKING</th>\n",
       "    </tr>\n",
       "  </thead>\n",
       "  <tbody>\n",
       "    <tr>\n",
       "      <th>0</th>\n",
       "      <td>University of Visvesvaraya College of Engineering</td>\n",
       "      <td>AI</td>\n",
       "      <td>2AG</td>\n",
       "      <td>475</td>\n",
       "    </tr>\n",
       "    <tr>\n",
       "      <th>1</th>\n",
       "      <td>University of Visvesvaraya College of Engineering</td>\n",
       "      <td>AI</td>\n",
       "      <td>GM</td>\n",
       "      <td>355</td>\n",
       "    </tr>\n",
       "    <tr>\n",
       "      <th>2</th>\n",
       "      <td>University of Visvesvaraya College of Engineering</td>\n",
       "      <td>AI</td>\n",
       "      <td>SCG</td>\n",
       "      <td>670</td>\n",
       "    </tr>\n",
       "    <tr>\n",
       "      <th>3</th>\n",
       "      <td>University of Visvesvaraya College of Engineering</td>\n",
       "      <td>AI</td>\n",
       "      <td>GMR</td>\n",
       "      <td>0</td>\n",
       "    </tr>\n",
       "    <tr>\n",
       "      <th>4</th>\n",
       "      <td>University of Visvesvaraya College of Engineering</td>\n",
       "      <td>AI</td>\n",
       "      <td>SCR</td>\n",
       "      <td>0</td>\n",
       "    </tr>\n",
       "  </tbody>\n",
       "</table>\n",
       "</div>"
      ],
      "text/plain": [
       "                                             COLLEGE BRANCH CATEGORIES  \\\n",
       "0  University of Visvesvaraya College of Engineering     AI        2AG   \n",
       "1  University of Visvesvaraya College of Engineering     AI         GM   \n",
       "2  University of Visvesvaraya College of Engineering     AI        SCG   \n",
       "3  University of Visvesvaraya College of Engineering     AI        GMR   \n",
       "4  University of Visvesvaraya College of Engineering     AI        SCR   \n",
       "\n",
       "   RANKING  \n",
       "0      475  \n",
       "1      355  \n",
       "2      670  \n",
       "3        0  \n",
       "4        0  "
      ]
     },
     "execution_count": 24,
     "metadata": {},
     "output_type": "execute_result"
    }
   ],
   "source": [
    "df_copy.head()"
   ]
  },
  {
   "cell_type": "code",
   "execution_count": 26,
   "id": "b5eb62d4-c82d-4aa7-9040-6c15dfc9aac5",
   "metadata": {},
   "outputs": [
    {
     "data": {
      "text/html": [
       "<div>\n",
       "<style scoped>\n",
       "    .dataframe tbody tr th:only-of-type {\n",
       "        vertical-align: middle;\n",
       "    }\n",
       "\n",
       "    .dataframe tbody tr th {\n",
       "        vertical-align: top;\n",
       "    }\n",
       "\n",
       "    .dataframe thead th {\n",
       "        text-align: right;\n",
       "    }\n",
       "</style>\n",
       "<table border=\"1\" class=\"dataframe\">\n",
       "  <thead>\n",
       "    <tr style=\"text-align: right;\">\n",
       "      <th></th>\n",
       "      <th>COLLEGE</th>\n",
       "      <th>BRANCH</th>\n",
       "      <th>CATEGORIES</th>\n",
       "      <th>RANKING</th>\n",
       "    </tr>\n",
       "  </thead>\n",
       "  <tbody>\n",
       "    <tr>\n",
       "      <th>0</th>\n",
       "      <td>University of Visvesvaraya College of Engineering</td>\n",
       "      <td>AI</td>\n",
       "      <td>2AG</td>\n",
       "      <td>475</td>\n",
       "    </tr>\n",
       "    <tr>\n",
       "      <th>1</th>\n",
       "      <td>University of Visvesvaraya College of Engineering</td>\n",
       "      <td>AI</td>\n",
       "      <td>GM</td>\n",
       "      <td>355</td>\n",
       "    </tr>\n",
       "    <tr>\n",
       "      <th>2</th>\n",
       "      <td>University of Visvesvaraya College of Engineering</td>\n",
       "      <td>AI</td>\n",
       "      <td>SCG</td>\n",
       "      <td>670</td>\n",
       "    </tr>\n",
       "    <tr>\n",
       "      <th>3</th>\n",
       "      <td>University of Visvesvaraya College of Engineering</td>\n",
       "      <td>AI</td>\n",
       "      <td>GMR</td>\n",
       "      <td>0</td>\n",
       "    </tr>\n",
       "    <tr>\n",
       "      <th>4</th>\n",
       "      <td>University of Visvesvaraya College of Engineering</td>\n",
       "      <td>AI</td>\n",
       "      <td>SCR</td>\n",
       "      <td>0</td>\n",
       "    </tr>\n",
       "    <tr>\n",
       "      <th>...</th>\n",
       "      <td>...</td>\n",
       "      <td>...</td>\n",
       "      <td>...</td>\n",
       "      <td>...</td>\n",
       "    </tr>\n",
       "    <tr>\n",
       "      <th>103</th>\n",
       "      <td>Dayananda Sagar College of Engineering</td>\n",
       "      <td>ME</td>\n",
       "      <td>GM</td>\n",
       "      <td>1861</td>\n",
       "    </tr>\n",
       "    <tr>\n",
       "      <th>104</th>\n",
       "      <td>Dayananda Sagar College of Engineering</td>\n",
       "      <td>ME</td>\n",
       "      <td>SCG</td>\n",
       "      <td>2868</td>\n",
       "    </tr>\n",
       "    <tr>\n",
       "      <th>105</th>\n",
       "      <td>Dayananda Sagar College of Engineering</td>\n",
       "      <td>ME</td>\n",
       "      <td>GMR</td>\n",
       "      <td>0</td>\n",
       "    </tr>\n",
       "    <tr>\n",
       "      <th>106</th>\n",
       "      <td>Dayananda Sagar College of Engineering</td>\n",
       "      <td>ME</td>\n",
       "      <td>SCR</td>\n",
       "      <td>0</td>\n",
       "    </tr>\n",
       "    <tr>\n",
       "      <th>107</th>\n",
       "      <td>Dayananda Sagar College of Engineering</td>\n",
       "      <td>ME</td>\n",
       "      <td>STG</td>\n",
       "      <td>4337</td>\n",
       "    </tr>\n",
       "  </tbody>\n",
       "</table>\n",
       "<p>108 rows × 4 columns</p>\n",
       "</div>"
      ],
      "text/plain": [
       "                                               COLLEGE BRANCH CATEGORIES  \\\n",
       "0    University of Visvesvaraya College of Engineering     AI        2AG   \n",
       "1    University of Visvesvaraya College of Engineering     AI         GM   \n",
       "2    University of Visvesvaraya College of Engineering     AI        SCG   \n",
       "3    University of Visvesvaraya College of Engineering     AI        GMR   \n",
       "4    University of Visvesvaraya College of Engineering     AI        SCR   \n",
       "..                                                 ...    ...        ...   \n",
       "103             Dayananda Sagar College of Engineering     ME         GM   \n",
       "104             Dayananda Sagar College of Engineering     ME        SCG   \n",
       "105             Dayananda Sagar College of Engineering     ME        GMR   \n",
       "106             Dayananda Sagar College of Engineering     ME        SCR   \n",
       "107             Dayananda Sagar College of Engineering     ME        STG   \n",
       "\n",
       "     RANKING  \n",
       "0        475  \n",
       "1        355  \n",
       "2        670  \n",
       "3          0  \n",
       "4          0  \n",
       "..       ...  \n",
       "103     1861  \n",
       "104     2868  \n",
       "105        0  \n",
       "106        0  \n",
       "107     4337  \n",
       "\n",
       "[108 rows x 4 columns]"
      ]
     },
     "execution_count": 26,
     "metadata": {},
     "output_type": "execute_result"
    }
   ],
   "source": [
    "\n",
    "df_copy.loc[(df_copy[\"BRANCH\"]==\"AI\") & (df_copy[\"CATEGORIES\"]==\"GM\") & df_copy[\"RANKING\"]<Rank]"
   ]
  },
  {
   "cell_type": "code",
   "execution_count": 38,
   "id": "b210bd3f-bcdf-4fe7-bd9e-d73ba81ed236",
   "metadata": {},
   "outputs": [
    {
     "name": "stdin",
     "output_type": "stream",
     "text": [
      "Enter the Rank:  1\n",
      "Enter the Branch:  ce\n",
      "Enter the categories : gm\n"
     ]
    },
    {
     "data": {
      "text/html": [
       "<div>\n",
       "<style scoped>\n",
       "    .dataframe tbody tr th:only-of-type {\n",
       "        vertical-align: middle;\n",
       "    }\n",
       "\n",
       "    .dataframe tbody tr th {\n",
       "        vertical-align: top;\n",
       "    }\n",
       "\n",
       "    .dataframe thead th {\n",
       "        text-align: right;\n",
       "    }\n",
       "</style>\n",
       "<table border=\"1\" class=\"dataframe\">\n",
       "  <thead>\n",
       "    <tr style=\"text-align: right;\">\n",
       "      <th></th>\n",
       "      <th>COLLEGE</th>\n",
       "      <th>BRANCH</th>\n",
       "      <th>CATEGORIES</th>\n",
       "      <th>RANKING</th>\n",
       "    </tr>\n",
       "  </thead>\n",
       "  <tbody>\n",
       "    <tr>\n",
       "      <th>7</th>\n",
       "      <td>University of Visvesvaraya College of Engineering</td>\n",
       "      <td>CE</td>\n",
       "      <td>GM</td>\n",
       "      <td>370</td>\n",
       "    </tr>\n",
       "    <tr>\n",
       "      <th>43</th>\n",
       "      <td>R. V. College of Engineering</td>\n",
       "      <td>CE</td>\n",
       "      <td>GM</td>\n",
       "      <td>234</td>\n",
       "    </tr>\n",
       "    <tr>\n",
       "      <th>79</th>\n",
       "      <td>Dayananda Sagar College of Engineering</td>\n",
       "      <td>CE</td>\n",
       "      <td>GM</td>\n",
       "      <td>1531</td>\n",
       "    </tr>\n",
       "  </tbody>\n",
       "</table>\n",
       "</div>"
      ],
      "text/plain": [
       "                                              COLLEGE BRANCH CATEGORIES  \\\n",
       "7   University of Visvesvaraya College of Engineering     CE         GM   \n",
       "43                       R. V. College of Engineering     CE         GM   \n",
       "79             Dayananda Sagar College of Engineering     CE         GM   \n",
       "\n",
       "    RANKING  \n",
       "7       370  \n",
       "43      234  \n",
       "79     1531  "
      ]
     },
     "execution_count": 38,
     "metadata": {},
     "output_type": "execute_result"
    }
   ],
   "source": [
    "Ranking=int(input(\"Enter the Rank: \"))\n",
    "Branch=input(\"Enter the Branch: \").upper()\n",
    "Categories=input(\"Enter the categories :\").upper()\n",
    "df_copy.loc[(df_copy[\"BRANCH\"]==Branch)&(df_copy[\"CATEGORIES\"]==Categories)&(df_copy[\"RANKING\"]>Ranking)]"
   ]
  },
  {
   "cell_type": "code",
   "execution_count": null,
   "id": "82fe7b1a-e1f9-475b-b25d-2aba21398cb8",
   "metadata": {},
   "outputs": [],
   "source": []
  }
 ],
 "metadata": {
  "kernelspec": {
   "display_name": "Python 3 (ipykernel)",
   "language": "python",
   "name": "python3"
  },
  "language_info": {
   "codemirror_mode": {
    "name": "ipython",
    "version": 3
   },
   "file_extension": ".py",
   "mimetype": "text/x-python",
   "name": "python",
   "nbconvert_exporter": "python",
   "pygments_lexer": "ipython3",
   "version": "3.11.7"
  }
 },
 "nbformat": 4,
 "nbformat_minor": 5
}
